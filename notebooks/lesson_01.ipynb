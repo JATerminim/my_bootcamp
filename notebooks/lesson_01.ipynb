{
 "cells": [
  {
   "cell_type": "code",
   "execution_count": null,
   "metadata": {},
   "outputs": [],
   "source": []
  },
  {
   "cell_type": "code",
   "execution_count": 2,
   "metadata": {},
   "outputs": [],
   "source": [
    "#Datatypes with typimg\n",
    "contador: int = 3\n",
    "numero_pl: float = 3.14159\n",
    "cadena: str = \"python es lo maximo\"\n",
    "flag: bool = True"
   ]
  },
  {
   "cell_type": "code",
   "execution_count": 3,
   "metadata": {},
   "outputs": [
    {
     "name": "stdout",
     "output_type": "stream",
     "text": [
      "True\n",
      "True\n",
      "True\n"
     ]
    }
   ],
   "source": [
    "#Logical operator\n",
    "print(True and True)\n",
    "print(True or False)\n",
    "print(not False)"
   ]
  },
  {
   "cell_type": "code",
   "execution_count": 5,
   "metadata": {},
   "outputs": [
    {
     "name": "stdout",
     "output_type": "stream",
     "text": [
      "6\n",
      "30\n",
      "8.0\n",
      "3.5\n",
      "1\n",
      "4\n"
     ]
    }
   ],
   "source": [
    "#Arimetic operator\n",
    "print(3+3) #Suma\n",
    "print(10*3) #Multiplicacion\n",
    "print(24/3) #Division\n",
    "print(10.9-7.4) #Resta\n",
    "print(9%2) #Modulo es el residuo. El simobolo es %\n",
    "print(9//2) #Division entera. El simbolo es // Solo dará el valor entero (parte entera siempre redondea hacia abajo)"
   ]
  },
  {
   "cell_type": "code",
   "execution_count": 8,
   "metadata": {},
   "outputs": [],
   "source": [
    "#Coletions es lo que màs preguntan en data science\n",
    "\n",
    "my_list = [1,2,3,4] #Es una collection ordenada y mutable.\n",
    "my_tuple = (\"Fish\",\"Chips\") #Es un collection ordenada no mutable.\n",
    "my_set = {\"a\",\"b\",\"c\"} #Es una collection no ordenada mutable solo cuando se saca o se mete valores. Som repeticones\n",
    "my_dict = {\"name\":\"Peter\",\"last_name\":\"Smith\"} #Es una collection llave valor, es una colection ordenada y mutable"
   ]
  },
  {
   "cell_type": "code",
   "execution_count": 18,
   "metadata": {},
   "outputs": [
    {
     "data": {
      "text/plain": [
       "{'name': 'Soledad', 'last name': 'Rios'}"
      ]
     },
     "execution_count": 18,
     "metadata": {},
     "output_type": "execute_result"
    }
   ],
   "source": [
    "my_list[3] #yo puedo cambiar el valor en base el indice\n",
    "my_list[3] = 5\n",
    "my_list\n",
    "\n",
    "my_tuple[1] #my_tuple[1] = \"Bacon\" hacerlo asi harà que de error porque esto no se pueda mutar no se puede cambiar como en el caso de la lista\n",
    "my_tuple\n",
    "\n",
    "#my_set [2] #No puedes hacer esto porque no tiene orden.\n",
    "\n",
    "my_Second_set = {\"x\",\"y\",\"z\",\"x\"} #pyton define los set sin los valores repetidos. Es decir si hay varios valores repetido solo tomarà uno de ese mismo producto repetido\n",
    "my_Second_set\n",
    "\n",
    "my_dict[\"last_name\"] #no se puede tener llaves iguales\n",
    "\n",
    "my_Second_dict ={\"name\":\"Maria\",\"name\":\"Soledad\",\"last name\":\"Rios\"}\n",
    "my_Second_dict"
   ]
  },
  {
   "cell_type": "code",
   "execution_count": 22,
   "metadata": {},
   "outputs": [
    {
     "name": "stdout",
     "output_type": "stream",
     "text": [
      "10 no es menor\n",
      "El equipo A gano\n"
     ]
    }
   ],
   "source": [
    "#Las tres estructuras de control: Sequence, Selection, Iteration (Este es el teorema Bohm Jacopini) establece que puedo hacer una operacion estructura con if, for, while\n",
    "if 10 < 4:\n",
    "    print(\"10 es menor\")\n",
    "else:\n",
    "    print(\"10 no es menor\")\n",
    "\n",
    "score_team_a = 3\n",
    "score_team_b = 1\n",
    "if score_team_a < score_team_b:\n",
    "    print(\"El equipo A perdio\")\n",
    "elif score_team_a > score_team_b:\n",
    "    print(\"El equipo A gano\")\n",
    "else:\n",
    "    print(\"Fue empate\")\n",
    "\n"
   ]
  },
  {
   "cell_type": "code",
   "execution_count": 25,
   "metadata": {},
   "outputs": [
    {
     "name": "stdout",
     "output_type": "stream",
     "text": [
      "7\n",
      "10\n",
      "5\n",
      "0\n",
      "4\n",
      "3\n",
      "2\n",
      "1\n"
     ]
    }
   ],
   "source": [
    "my_second_list = [7,10,5,0]\n",
    "\n",
    "for i in my_second_list:\n",
    "    print(i)\n",
    "\n",
    "my_number = 4\n",
    "\n",
    "while my_number > 0:\n",
    "    print(my_number)\n",
    "    #my_number = my_number-1\n",
    "    my_number -= 1 #es mas elegante colocarlo asi"
   ]
  },
  {
   "cell_type": "code",
   "execution_count": 26,
   "metadata": {},
   "outputs": [],
   "source": [
    "import numpy as np #data science està muy metido con algebra lineal. Para todo grupo de datos hay un resultado. De un monton de"
   ]
  },
  {
   "cell_type": "code",
   "execution_count": 28,
   "metadata": {},
   "outputs": [
    {
     "data": {
      "text/plain": [
       "array([6, 7, 8, 9])"
      ]
     },
     "execution_count": 28,
     "metadata": {},
     "output_type": "execute_result"
    }
   ],
   "source": [
    "my_vector = np.array([6,7,8,9])\n",
    "my_vector"
   ]
  },
  {
   "cell_type": "code",
   "execution_count": 29,
   "metadata": {},
   "outputs": [
    {
     "data": {
      "text/plain": [
       "(4,)"
      ]
     },
     "execution_count": 29,
     "metadata": {},
     "output_type": "execute_result"
    }
   ],
   "source": [
    "my_vector.shape\n",
    "\n",
    "my_matrix = np.array([[6,7],[8,9]])"
   ]
  }
 ],
 "metadata": {
  "kernelspec": {
   "display_name": ".venv",
   "language": "python",
   "name": "python3"
  },
  "language_info": {
   "codemirror_mode": {
    "name": "ipython",
    "version": 3
   },
   "file_extension": ".py",
   "mimetype": "text/x-python",
   "name": "python",
   "nbconvert_exporter": "python",
   "pygments_lexer": "ipython3",
   "version": "3.12.1"
  }
 },
 "nbformat": 4,
 "nbformat_minor": 2
}
